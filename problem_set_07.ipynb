{
  "cells": [
    {
      "cell_type": "markdown",
      "metadata": {
        "colab_type": "text",
        "id": "view-in-github"
      },
      "source": [
        "<a href=\"https://colab.research.google.com/github/COMP90054/2025-S2-tutorials/blob/main/problem_set_07.ipynb\" target=\"_parent\"><img src=\"https://colab.research.google.com/assets/colab-badge.svg\" alt=\"Open In Colab\"/></a>"
      ]
    },
    {
      "cell_type": "markdown",
      "metadata": {
        "id": "wtYhEJOLntKg"
      },
      "source": [
        "# COMP90054 AI Planning for Autonomy\n",
        "### Problem Set 07\n",
        " - Markov Decision Processes\n",
        "\n",
        "\n"
      ]
    },
    {
      "cell_type": "markdown",
      "metadata": {
        "id": "gzM1qCxE1yDN"
      },
      "source": [
        "### Key concepts:\n",
        "- MRP\n",
        "- MDP"
      ]
    },
    {
      "cell_type": "markdown",
      "metadata": {
        "id": "U8f4i2S328SJ"
      },
      "source": [
        "\n",
        "\n",
        "---\n",
        "\n",
        "\n",
        "### Problem 1:\n"
      ]
    },
    {
      "attachments": {
        "image.png": {
          "image/png": "[encoded data removed]"
        }
      },
      "cell_type": "markdown",
      "metadata": {
        "id": "hE3VuWKWYD4R"
      },
      "source": [
        "Consider the following Grid MDP example: \n",
        "\n",
        "![image.png](attachment:image.png) \n",
        "\n",
        "An agent is in the bottom left cell of a grid. The grey cell is a wall. The two coloured cells give a reward. There is a reward of 1 of being in the top-right (green) cell, but a negative value of -1 for the cell immediately below (red).\n",
        "\n",
        "But! Things can go wrong — sometimes the effects of the actions are not what we want:\n",
        "- If the agent tries to move north, 80% of the time, this works as planned (provided the wall is not in the way)\n",
        "- 10% of the time, trying to move north takes the agent west (provided the wall is not in the way);\n",
        "- 10% of the time, trying to move north takes the agent east (provided the wall is not in the way)\n",
        "If the wall is in the way of the cell that would have been taken, the agent stays in the current cell\n",
        "\n",
        "\n",
        "Define a formal discounted-reward MDP model which matches this description. (Hint: you may wish to sketch out a small part of the MDP first)."
      ]
    },
    {
      "cell_type": "markdown",
      "metadata": {
        "id": "qAVg7eLm1K8M"
      },
      "source": [
        "### Problem 2:"
      ]
    },
    {
      "cell_type": "markdown",
      "metadata": {
        "id": "PLm4V9UO1Oot"
      },
      "source": [
        "A. Compare the value functions for the Markov Reward Process and Markov Decision process shown below. Why are they different? Is there a different policy for the MDP which would result in the same values as shown in the MRP?\n",
        "\n",
        "\n",
        "![Student Markov reward process](mdp-06.svg)\n",
        "![Student Markov decision process](mdp-08.svg)\n",
        "\n",
        "\n",
        "B. Now compare the values to the optimal value function. Why are they different?\n",
        "\n",
        "![Optimal Markov decision process](mdp-10.svg)\n"
      ]
    },
    {
      "cell_type": "markdown",
      "metadata": {
        "id": "s_x1EZbMXwbg"
      },
      "source": [
        "\n",
        "\n",
        "---\n",
        "\n",
        "\n",
        "### Problem 3:\n",
        "\n"
      ]
    },
    {
      "cell_type": "markdown",
      "metadata": {},
      "source": [
        "\n",
        "Given the optimal state value function above, what is the optimal action to take in the bottom left state? What about the rightmost state? How can you tell?"
      ]
    }
  ],
  "metadata": {
    "colab": {
      "collapsed_sections": [
        "HJLiN8UdxEF-"
      ],
      "include_colab_link": true,
      "name": "problem_set_07.ipynb",
      "provenance": [],
      "toc_visible": true
    },
    "kernelspec": {
      "display_name": "Python 3",
      "name": "python3"
    },
    "language_info": {
      "name": "python"
    }
  },
  "nbformat": 4,
  "nbformat_minor": 0
}
